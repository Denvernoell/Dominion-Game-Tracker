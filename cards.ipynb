{
 "metadata": {
  "language_info": {
   "codemirror_mode": {
    "name": "ipython",
    "version": 3
   },
   "file_extension": ".py",
   "mimetype": "text/x-python",
   "name": "python",
   "nbconvert_exporter": "python",
   "pygments_lexer": "ipython3",
   "version": "3.9.0"
  },
  "orig_nbformat": 4,
  "kernelspec": {
   "name": "python3",
   "display_name": "Python 3.9.0 64-bit ('primary': conda)"
  },
  "interpreter": {
   "hash": "f0acdc356d1db35b08d61bcf2b8308ce91a46e3e570a8a4380e2ff890cca7ea2"
  }
 },
 "nbformat": 4,
 "nbformat_minor": 2,
 "cells": [
  {
   "cell_type": "code",
   "execution_count": 15,
   "metadata": {},
   "outputs": [],
   "source": [
    "import pandas as pd\n",
    "\n",
    "# Get cards\n",
    "tables = pd.read_html(\"http://wiki.dominionstrategy.com/index.php/List_of_cards\")\n",
    "df = tables[0]\n",
    "columns = [c for c in df.columns]\n",
    "sets = [s for s in df['Set'].unique()]"
   ]
  },
  {
   "cell_type": "code",
   "execution_count": 24,
   "metadata": {},
   "outputs": [
    {
     "output_type": "execute_result",
     "data": {
      "text/plain": [
       "['Black Cat',\n",
       " 'Sleigh',\n",
       " 'Supplies',\n",
       " 'Horse',\n",
       " 'Camel Train',\n",
       " 'Goatherd',\n",
       " 'Scrap',\n",
       " 'Sheepdog',\n",
       " 'Snowy Village',\n",
       " 'Stockpile',\n",
       " 'Bounty Hunter',\n",
       " 'Cardinal',\n",
       " 'Cavalry',\n",
       " 'Groom',\n",
       " 'Hostelry',\n",
       " 'Village Green',\n",
       " 'Fisherman',\n",
       " 'Hunting Lodge',\n",
       " 'Barge',\n",
       " 'Coven',\n",
       " 'Displace',\n",
       " 'Falconer',\n",
       " 'Gatekeeper',\n",
       " 'Kiln',\n",
       " 'Livery',\n",
       " 'Mastermind',\n",
       " 'Paddock',\n",
       " 'Sanctuary',\n",
       " 'Destrier',\n",
       " 'Wayfarer',\n",
       " 'Animal Fair',\n",
       " 'Delay',\n",
       " 'Desperation',\n",
       " 'Gamble',\n",
       " 'Pursue',\n",
       " 'Ride',\n",
       " 'Toil',\n",
       " 'Enhance',\n",
       " 'March',\n",
       " 'Transport',\n",
       " 'Banish',\n",
       " 'Bargain',\n",
       " 'Invest',\n",
       " 'Seize the Day',\n",
       " 'Commerce',\n",
       " 'Demand',\n",
       " 'Stampede',\n",
       " 'Reap',\n",
       " 'Enclave',\n",
       " 'Alliance',\n",
       " 'Populate',\n",
       " 'Way of the Butterfly',\n",
       " 'Way of the Camel',\n",
       " 'Way of the Chameleon',\n",
       " 'Way of the Frog',\n",
       " 'Way of the Goat',\n",
       " 'Way of the Horse',\n",
       " 'Way of the Mole',\n",
       " 'Way of the Monkey',\n",
       " 'Way of the Mouse',\n",
       " 'Way of the Mule',\n",
       " 'Way of the Otter',\n",
       " 'Way of the Ox',\n",
       " 'Way of the Owl',\n",
       " 'Way of the Pig',\n",
       " 'Way of the Rat',\n",
       " 'Way of the Seal',\n",
       " 'Way of the Sheep',\n",
       " 'Way of the Squirrel',\n",
       " 'Way of the Turtle',\n",
       " 'Way of the Worm']"
      ]
     },
     "metadata": {},
     "execution_count": 24
    }
   ],
   "source": [
    "my_set = \"Menagerie\"\n",
    "\n",
    "[c for c in df[df['Set'] == my_set]['Name']]"
   ]
  },
  {
   "cell_type": "code",
   "execution_count": 48,
   "metadata": {},
   "outputs": [
    {
     "output_type": "execute_result",
     "data": {
      "text/plain": [
       "[('Sawyer', 18), ('Jerod', 18), ('Denver', 16)]"
      ]
     },
     "metadata": {},
     "execution_count": 48
    }
   ],
   "source": [
    "scores = {\n",
    "  \"Denver\": 16,\n",
    "  \"Sawyer\": 18,\n",
    "  \"Jerod\": 18\n",
    "}\n",
    "\n",
    "score_check = sorted(scores.items(), key=lambda x:x[1],reverse=True)\n",
    "if score_check[0][1] == score_check[1][1]:"
   ]
  }
 ]
}